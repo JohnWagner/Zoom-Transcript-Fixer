{
 "cells": [
  {
   "cell_type": "markdown",
   "metadata": {},
   "source": [
    "# Zoom Transcript Format Cleaner"
   ]
  },
  {
   "cell_type": "markdown",
   "metadata": {},
   "source": [
    "#### Author: John K. Wagner, jkwagner@unm.edu"
   ]
  },
  {
   "cell_type": "markdown",
   "metadata": {},
   "source": [
    "***"
   ]
  },
  {
   "cell_type": "markdown",
   "metadata": {},
   "source": [
    "### The following notebook is designed to format Zoom transcripts so that each speakers words are concatenated rather than being frequently separated. \n",
    " \n",
    "### For this to work properly, the provided Zoom transcripts will need to have the *.txt* extension. "
   ]
  },
  {
   "cell_type": "markdown",
   "metadata": {},
   "source": [
    "***"
   ]
  },
  {
   "cell_type": "markdown",
   "metadata": {},
   "source": [
    "#### Loading Libraries"
   ]
  },
  {
   "cell_type": "code",
   "execution_count": 1,
   "metadata": {},
   "outputs": [],
   "source": [
    "import pandas as pd #Data management & manipulation\n",
    "import os #General cmds\n",
    "import re #Regex\n",
    "from pathlib import Path #File/directory utility\n",
    "from docx import Document #Exporting word docs (.docx)\n",
    "from tqdm import tqdm #Progress bar for main loop"
   ]
  },
  {
   "cell_type": "markdown",
   "metadata": {},
   "source": [
    "#### Folder for Transcripts\n",
    "Change the directory to the directory where you want your transcripts to be reformatted. The code will check child folders for transcripts."
   ]
  },
  {
   "cell_type": "code",
   "execution_count": 2,
   "metadata": {},
   "outputs": [],
   "source": [
    "transcript_folder = r'C:\\Users\\deere\\Downloads\\Original Audio Transcripts\\Original Audio Transcripts'"
   ]
  },
  {
   "cell_type": "markdown",
   "metadata": {},
   "source": [
    "#### Desired Output Folder\n",
    "Select where you want to output the files (file structure will be mirrored there)."
   ]
  },
  {
   "cell_type": "code",
   "execution_count": 3,
   "metadata": {},
   "outputs": [],
   "source": [
    "output_folder = r'C:\\Users\\deere\\Downloads\\Cleaned Audio Transcripts'"
   ]
  },
  {
   "cell_type": "markdown",
   "metadata": {},
   "source": [
    "#### Setting Up File List (Based on transcript_folder Directory)\n",
    "First we make a path object to the folder containing our transcripts (it just identifies any .txt files)"
   ]
  },
  {
   "cell_type": "code",
   "execution_count": 4,
   "metadata": {},
   "outputs": [],
   "source": [
    "txt_folder = Path(transcript_folder).rglob('*.txt')"
   ]
  },
  {
   "cell_type": "markdown",
   "metadata": {},
   "source": [
    "Then we create a list of files in that folder"
   ]
  },
  {
   "cell_type": "code",
   "execution_count": 5,
   "metadata": {},
   "outputs": [],
   "source": [
    "files = [x for x in txt_folder]"
   ]
  },
  {
   "cell_type": "markdown",
   "metadata": {},
   "source": [
    "We also transform output_folder and transcript_folder to path objects for later use"
   ]
  },
  {
   "cell_type": "code",
   "execution_count": 6,
   "metadata": {},
   "outputs": [],
   "source": [
    "output_dir = Path(output_folder)\n",
    "base_dir = Path(transcript_folder)"
   ]
  },
  {
   "cell_type": "markdown",
   "metadata": {},
   "source": [
    "#### Loop for Reading, Transforming, and Saving Each Transcript"
   ]
  },
  {
   "cell_type": "code",
   "execution_count": 7,
   "metadata": {},
   "outputs": [
    {
     "name": "stderr",
     "output_type": "stream",
     "text": [
      "100%|██████████████████████████████████████████████████████████████████████████████████| 87/87 [00:08<00:00, 10.14it/s]\n"
     ]
    }
   ],
   "source": [
    "# This loop reads the file line by line, and stores the result as a list called *content*\n",
    "for file in tqdm(files):\n",
    "    f = open(file, 'r')  \n",
    "    content = f.readlines()\n",
    "    f.close()\n",
    "    \n",
    "    ####\n",
    "    # Convert List to String\n",
    "    content_str = \"\" # Create blank string to fill in\n",
    "    for i in content: # Loop appends each list element in content to the string, content_str\n",
    "        content_str += i\n",
    "    \n",
    "    #####\n",
    "    ## Regex Patterns stored as Regex objects for identifying our three main parts of a speaking instance\n",
    "\n",
    "    # -- for recognzing the number ahead of each speaking instance (based on line containing one number {1-11 digits} and /n only)\n",
    "    num_pattern = re.compile(r'^[1-9]\\d{0,11}\\n', re.MULTILINE)\n",
    "    # -- for recognzing the time period of each speaking instance (based on time period format)\n",
    "    time_pattern = re.compile(r'(^\\d\\d:\\d\\d:\\d\\d.\\d\\d\\d --> \\d\\d:\\d\\d:\\d\\d.\\d\\d\\d\\n)', re.MULTILINE)\n",
    "    # -- for recognzing the speaking instance itself (it's the line after the time)\n",
    "    blurb_pattern = re.compile(r'^\\d\\d:\\d\\d:\\d\\d.\\d\\d\\d --> \\d\\d:\\d\\d:\\d\\d.\\d\\d\\d[\\r\\n]+([^\\r\\n]+)', re.MULTILINE)\n",
    "\n",
    "    #####\n",
    "    ## Apply each pattern to content_str, store each as a list\n",
    "    num_temp = num_pattern.findall(content_str)\n",
    "    time_temp = time_pattern.findall(content_str)\n",
    "    blurb_temp = blurb_pattern.findall(content_str)\n",
    "    \n",
    "    ####\n",
    "    # Transform our resulting three lists into a pandas dataframe for easier transformations\n",
    "    df = pd.DataFrame({'Speech_Num': num_temp, 'Time' : time_temp, 'Speech' : blurb_temp})\n",
    "    \n",
    "    ####\n",
    "    ## Cleaning up and prepping columns\n",
    "\n",
    "    # -- Replacing errant newline characters\n",
    "    df['Speech_Num'] = df['Speech_Num'].str.replace(r'\\n', '')\n",
    "    df['Time'] = df['Time'].str.replace(r'\\n', '')\n",
    "\n",
    "    # Extracting the Speaker from the Speech Column\n",
    "    df['Speaker'] = df['Speech'].str.extract(r'^(.+?):')\n",
    "    # Extracting the Speech from the Speech Column (removing speaker)\n",
    "    df['Speech'] = df['Speech'].str.replace(r'^(.+?):', '')\n",
    "\n",
    "    # Separating Time Start and Time In for Later Tranformation\n",
    "    df ['Time_Start'] = df['Time'].str.extract(r'^(.+?) -->')\n",
    "    df ['Time_End'] = df['Time'].str.extract(r' --> (.*)')\n",
    "\n",
    "    # Check if prior speech instance had the same speaker (will allow us to collapse adjacent speakers' speaking instances ahead)\n",
    "    df['Speaker_Match'] = df.Speaker.eq(df.Speaker.shift())\n",
    "    \n",
    "    ####\n",
    "    ## Identifies speaking instances if prior speaker was the same one (for impending collapse)\n",
    "    i = 0\n",
    "    for index, row in df.iterrows():\n",
    "        # Identifying rows that are a new speaker\n",
    "        if row['Speaker_Match'] == False:\n",
    "            # Iterate Speaker Number by 1\n",
    "            i = i + 1\n",
    "            # Store Speaker Number\n",
    "            df.at[index, 'Speaker_Num'] = i\n",
    "        # Row is same speaker\n",
    "        else:\n",
    "            # Store Speaker Number\n",
    "            df.at[index, 'Speaker_Num'] = i \n",
    "            \n",
    "    ####\n",
    "    ## Group Dataset by Speaker Number\n",
    "    # Combine All Speech Blurbs per Speaker's Speaking Instance\n",
    "    collapsed_df = df.groupby(['Speaker_Num']).agg({'Speech': ''.join, 'Speaker' : 'first', 'Time_Start' : 'first', 'Time_End' : 'last'})\n",
    "\n",
    "    # Remove All Trailing and Leading Whitespace from Speeches\n",
    "    collapsed_df.replace(r\"^ +| +$\", r\"\", regex=True, inplace=True)\n",
    "    \n",
    "    ####\n",
    "    ## Creating Final String to Be Written to File\n",
    "\n",
    "    # Create an initial string containing the preamble\n",
    "    trnscpt_final = 'WEBVTT\\n\\n'\n",
    "\n",
    "    # Loop to add in the df strings\n",
    "    i = 0\n",
    "    for index, row in collapsed_df.iterrows():\n",
    "\n",
    "        # Add one to speaking instance number\n",
    "        i = i + 1\n",
    "\n",
    "        # Add speaking instance number to string\n",
    "        trnscpt_final = trnscpt_final + str(i) + '\\n'\n",
    "\n",
    "        # Add time elapsed to next line per speaking instance\n",
    "        trnscpt_final = trnscpt_final + row['Time_Start'] + ' --> ' + row['Time_End'] + '\\n'\n",
    "\n",
    "        # Add speaker to newline \n",
    "            # if speaker is not missing (this skips adding speaker when speaker is unknown):\n",
    "        if str(row['Speaker']) != 'nan':\n",
    "            trnscpt_final = trnscpt_final + str(row['Speaker']) + ': '\n",
    "\n",
    "        # Add Speech Blurb to newline\n",
    "        trnscpt_final = trnscpt_final + row['Speech'] + '\\n'\n",
    "\n",
    "        # Add newline between each speaking instance\n",
    "        trnscpt_final = trnscpt_final + '\\n'\n",
    "    \n",
    "    ####\n",
    "    ## Create Export File Locations\n",
    "        # Combine the desired path (output_dir) with the directory and file that go beyond our base directory(base_dir)\n",
    "    output_file_txt = output_dir.joinpath(Path(*file.parts[len(base_dir.parts):len(file.parts)]))\n",
    "        # Alter file extension from txt to docx for alternate (desired) output format\n",
    "    output_file_docx = output_file_txt.with_suffix('.docx')\n",
    "    \n",
    "    ####\n",
    "    ## Export .txt file [DISABLED FOR NOW]\n",
    "        # Create missing folders if necessary in output directory\n",
    "    #os.makedirs(os.path.dirname(output_file_txt), exist_ok=True)\n",
    "        # Open .txt for writing\n",
    "    #text_file = open(output_file_txt, \"wt\")\n",
    "        # Write final transcript to file\n",
    "    #n = text_file.write(trnscpt_final)\n",
    "        # Close file\n",
    "    #text_file.close()\n",
    "    \n",
    "    ####\n",
    "    ## Export .docx file\n",
    "        # Create stored document to write to\n",
    "    document = Document()\n",
    "        # Write final transcript to body of docx (add_paragraph)\n",
    "    paragraph = document.add_paragraph(trnscpt_final)\n",
    "        # Write document to disk\n",
    "    document.save(output_file_docx)"
   ]
  },
  {
   "cell_type": "code",
   "execution_count": null,
   "metadata": {},
   "outputs": [],
   "source": []
  }
 ],
 "metadata": {
  "kernelspec": {
   "display_name": "Python 3",
   "language": "python",
   "name": "python3"
  },
  "language_info": {
   "codemirror_mode": {
    "name": "ipython",
    "version": 3
   },
   "file_extension": ".py",
   "mimetype": "text/x-python",
   "name": "python",
   "nbconvert_exporter": "python",
   "pygments_lexer": "ipython3",
   "version": "3.7.4"
  }
 },
 "nbformat": 4,
 "nbformat_minor": 2
}
